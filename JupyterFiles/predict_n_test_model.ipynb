{
 "cells": [
  {
   "cell_type": "code",
   "execution_count": 38,
   "metadata": {},
   "outputs": [],
   "source": [
    "from keras.models import load_model"
   ]
  },
  {
   "cell_type": "code",
   "execution_count": 39,
   "metadata": {},
   "outputs": [],
   "source": [
    "# load model which is saved in model.h5 from train_model.ipynb\n",
    "model = load_model('Model/model.h5')"
   ]
  },
  {
   "cell_type": "code",
   "execution_count": 40,
   "metadata": {},
   "outputs": [],
   "source": [
    "# image size is 224 x 224\n",
    "IMG_SIZE = 224\n",
    "# number of images is 4\n",
    "classes = ['Blue', 'New', 'Pond', 'Tar']\n"
   ]
  },
  {
   "cell_type": "code",
   "execution_count": 41,
   "metadata": {},
   "outputs": [],
   "source": [
    "import numpy as np\n",
    "import cv2\n",
    "from mtcnn import MTCNN\n",
    "from keras.preprocessing.image import img_to_array"
   ]
  },
  {
   "cell_type": "code",
   "execution_count": 42,
   "metadata": {},
   "outputs": [],
   "source": [
    "def detect_face(img):\n",
    "    detector = MTCNN()\n",
    "    faces = detector.detect_faces(img)\n",
    "    return faces[0]['box'] if len(faces) > 0 else None"
   ]
  },
  {
   "cell_type": "code",
   "execution_count": 43,
   "metadata": {},
   "outputs": [],
   "source": [
    "\n",
    "def crop_face(img, box):\n",
    "    x, y, w, h = box\n",
    "    return img[y:y+h, x:x+w]"
   ]
  },
  {
   "cell_type": "code",
   "execution_count": 44,
   "metadata": {},
   "outputs": [],
   "source": [
    "def preprocess(img):\n",
    "    img = cv2.resize(img, (IMG_SIZE, IMG_SIZE))\n",
    "\n",
    "    # convert to array\n",
    "    img = img_to_array(img)\n",
    "\n",
    "    # expand dimension to one sample\n",
    "    img = np.expand_dims(img, axis=0)\n",
    "    \n",
    "    img = img.astype('float32')\n",
    "    # normalize to the range 0-1\n",
    "    img /= 255\n",
    "    \n",
    "    return img"
   ]
  },
  {
   "cell_type": "code",
   "execution_count": 45,
   "metadata": {},
   "outputs": [],
   "source": [
    "def predict_img(img):\n",
    "\n",
    "    box = detect_face(img)\n",
    "    if box is not None:\n",
    "\n",
    "        face = crop_face(img, box)\n",
    "        # preprocess the image\n",
    "        face = preprocess(face)\n",
    "\n",
    "        # predict the class\n",
    "        pred = model.predict(face)\n",
    "\n",
    "        return pred, face[0], box\n",
    "    else:\n",
    "        print('No face detected')\n",
    "        return None, None, None"
   ]
  },
  {
   "cell_type": "code",
   "execution_count": 46,
   "metadata": {},
   "outputs": [],
   "source": [
    "def realtime_predict(path=None):\n",
    "    if path is None:\n",
    "        cap = cv2.VideoCapture(0)\n",
    "    else:\n",
    "        cap = cv2.VideoCapture(path)\n",
    "\n",
    "    test_images = []\n",
    "    \n",
    "    while True:\n",
    "        ret, frame = cap.read()\n",
    "\n",
    "        res, face, box = predict_img(frame)\n",
    "        if res is not None:\n",
    "\n",
    "            cv2.rectangle(frame, (box[0], box[1]), (box[0]+box[2], box[1]+box[3]), (0, 255, 0), 2)\n",
    "\n",
    "            names = [classes[i] for i in range(4)]\n",
    "            cv2.putText(frame, str(names), (1, 20), cv2.FONT_HERSHEY_SIMPLEX, 1, (255, 0, 0), 2)\n",
    "            res = list(res[0])\n",
    "            res = [round(i*100, 3) for i in res]\n",
    "            res = [str(i)+'%' for i in res]\n",
    "            cv2.putText(frame, str(res), (1, 50), cv2.FONT_HERSHEY_SIMPLEX, 1, (255, 0, 0), 2)\n",
    "\n",
    "            cv2.putText(frame, str(classes[np.argmax(res)]), (box[0], box[1]), cv2.FONT_HERSHEY_SIMPLEX, 1, (0, 0, 255), 3)\n",
    "\n",
    "            cv2.imshow('frame', frame)\n",
    "\n",
    "        if cv2.waitKey(1) & 0xFF == ord('q'):\n",
    "            break\n",
    "        \n",
    "        # save the image into test_images\n",
    "        if cv2.waitKey(1) & 0xFF == ord('s') and len(test_images) < 3:\n",
    "            test_images.append([frame, classes[np.argmax(res)]])\n",
    "            print('Image saved')\n",
    "        \n",
    "    cap.release()\n",
    "    cv2.destroyAllWindows()\n",
    "\n",
    "    return test_images if len(test_images) > 0 else None"
   ]
  },
  {
   "cell_type": "code",
   "execution_count": 47,
   "metadata": {},
   "outputs": [
    {
     "name": "stdout",
     "output_type": "stream",
     "text": [
      "1/1 [==============================] - 0s 129ms/step\n",
      "1/1 [==============================] - 0s 103ms/step\n",
      "1/1 [==============================] - 0s 30ms/step\n",
      "1/1 [==============================] - 0s 25ms/step\n",
      "1/1 [==============================] - 0s 22ms/step\n",
      "1/1 [==============================] - 0s 26ms/step\n",
      "1/1 [==============================] - 0s 21ms/step\n",
      "1/1 [==============================] - 0s 20ms/step\n",
      "1/1 [==============================] - 0s 21ms/step\n",
      "1/1 [==============================] - 0s 20ms/step\n",
      "2/2 [==============================] - 0s 4ms/step\n",
      "1/1 [==============================] - 0s 123ms/step\n",
      "1/1 [==============================] - 0s 294ms/step\n",
      "1/1 [==============================] - 0s 113ms/step\n",
      "1/1 [==============================] - 0s 96ms/step\n",
      "1/1 [==============================] - 0s 32ms/step\n",
      "1/1 [==============================] - 0s 28ms/step\n",
      "1/1 [==============================] - 0s 25ms/step\n",
      "1/1 [==============================] - 0s 29ms/step\n",
      "1/1 [==============================] - 0s 23ms/step\n",
      "1/1 [==============================] - 0s 19ms/step\n",
      "1/1 [==============================] - 0s 20ms/step\n",
      "1/1 [==============================] - 0s 18ms/step\n",
      "2/2 [==============================] - 0s 8ms/step\n",
      "1/1 [==============================] - 0s 116ms/step\n",
      "1/1 [==============================] - 0s 148ms/step\n",
      "1/1 [==============================] - 0s 124ms/step\n",
      "1/1 [==============================] - 0s 110ms/step\n",
      "1/1 [==============================] - 0s 33ms/step\n",
      "1/1 [==============================] - 0s 24ms/step\n",
      "1/1 [==============================] - 0s 23ms/step\n",
      "1/1 [==============================] - 0s 20ms/step\n",
      "1/1 [==============================] - 0s 20ms/step\n",
      "1/1 [==============================] - 0s 26ms/step\n",
      "1/1 [==============================] - 0s 22ms/step\n",
      "1/1 [==============================] - 0s 23ms/step\n",
      "2/2 [==============================] - 0s 9ms/step\n",
      "1/1 [==============================] - 0s 145ms/step\n",
      "1/1 [==============================] - 0s 155ms/step\n",
      "1/1 [==============================] - 0s 119ms/step\n",
      "1/1 [==============================] - 0s 104ms/step\n",
      "1/1 [==============================] - 0s 30ms/step\n",
      "1/1 [==============================] - 0s 26ms/step\n",
      "1/1 [==============================] - 0s 25ms/step\n",
      "1/1 [==============================] - 0s 22ms/step\n",
      "1/1 [==============================] - 0s 21ms/step\n",
      "1/1 [==============================] - 0s 21ms/step\n",
      "1/1 [==============================] - 0s 20ms/step\n",
      "1/1 [==============================] - 0s 19ms/step\n",
      "2/2 [==============================] - 0s 5ms/step\n",
      "1/1 [==============================] - 0s 121ms/step\n",
      "1/1 [==============================] - 0s 145ms/step\n"
     ]
    }
   ],
   "source": [
    "# test on video or webcam\n",
    "test_images = realtime_predict('Test/Videos/New/New-1.mp4')"
   ]
  },
  {
   "cell_type": "code",
   "execution_count": 48,
   "metadata": {},
   "outputs": [],
   "source": [
    "# import matplotlib.pyplot as plt\n",
    "\n",
    "# if test_images is not None:\n",
    "#     # plot 3 images\n",
    "#     plt.figure(figsize=(15, 15))\n",
    "#     for i in range(len(test_images)):\n",
    "#         plt.subplot(1, 3, i+1)\n",
    "#         plt.title(test_images[i][1])\n",
    "#         plt.imshow(cv2.cvtColor(test_images[i][0], cv2.COLOR_BGR2RGB))\n",
    "#         plt.axis('off')\n",
    "#     plt.show()\n",
    "    "
   ]
  },
  {
   "cell_type": "markdown",
   "metadata": {},
   "source": [
    "## Evaluate"
   ]
  },
  {
   "cell_type": "code",
   "execution_count": 49,
   "metadata": {},
   "outputs": [],
   "source": [
    "import os\n"
   ]
  },
  {
   "cell_type": "code",
   "execution_count": 50,
   "metadata": {},
   "outputs": [],
   "source": [
    "test_path = 'Test/Images/'"
   ]
  },
  {
   "cell_type": "code",
   "execution_count": 51,
   "metadata": {},
   "outputs": [],
   "source": [
    "def load_data(dir_path, image_width, image_height):\n",
    "    X = []\n",
    "    y = []\n",
    "    label = dict()\n",
    "    i = 0\n",
    "    for file in os.listdir(dir_path):\n",
    "        label[i] = file\n",
    "        for image in os.listdir(dir_path + '/' + file):\n",
    "            img = cv2.imread(dir_path + '/' + file + '/' + image)\n",
    "            float_img = img.astype('float32')/255\n",
    "            resize_img = cv2.resize(float_img, (image_width, image_height))\n",
    "            X.append(resize_img)\n",
    "            y.append(i)\n",
    "        i += 1\n",
    "    X = np.array(X)\n",
    "    y = np.array(y)\n",
    "    \n",
    "    return X, y, label"
   ]
  },
  {
   "cell_type": "code",
   "execution_count": 52,
   "metadata": {},
   "outputs": [],
   "source": [
    "X_test, y_test, label = load_data(test_path, IMG_SIZE, IMG_SIZE)"
   ]
  },
  {
   "cell_type": "code",
   "execution_count": 53,
   "metadata": {},
   "outputs": [],
   "source": [
    "# one hot encoding for y_test\n",
    "from keras.utils import to_categorical\n",
    "y_test = to_categorical(y_test)"
   ]
  },
  {
   "cell_type": "code",
   "execution_count": 54,
   "metadata": {},
   "outputs": [
    {
     "data": {
      "text/plain": [
       "array([[1., 0., 0., 0.],\n",
       "       [1., 0., 0., 0.],\n",
       "       [1., 0., 0., 0.],\n",
       "       [1., 0., 0., 0.],\n",
       "       [1., 0., 0., 0.],\n",
       "       [1., 0., 0., 0.],\n",
       "       [1., 0., 0., 0.],\n",
       "       [1., 0., 0., 0.],\n",
       "       [1., 0., 0., 0.],\n",
       "       [1., 0., 0., 0.],\n",
       "       [0., 1., 0., 0.],\n",
       "       [0., 1., 0., 0.],\n",
       "       [0., 1., 0., 0.],\n",
       "       [0., 1., 0., 0.],\n",
       "       [0., 1., 0., 0.],\n",
       "       [0., 1., 0., 0.],\n",
       "       [0., 1., 0., 0.],\n",
       "       [0., 1., 0., 0.],\n",
       "       [0., 1., 0., 0.],\n",
       "       [0., 1., 0., 0.],\n",
       "       [0., 0., 1., 0.],\n",
       "       [0., 0., 1., 0.],\n",
       "       [0., 0., 1., 0.],\n",
       "       [0., 0., 1., 0.],\n",
       "       [0., 0., 1., 0.],\n",
       "       [0., 0., 1., 0.],\n",
       "       [0., 0., 1., 0.],\n",
       "       [0., 0., 1., 0.],\n",
       "       [0., 0., 1., 0.],\n",
       "       [0., 0., 1., 0.],\n",
       "       [0., 0., 0., 1.],\n",
       "       [0., 0., 0., 1.],\n",
       "       [0., 0., 0., 1.],\n",
       "       [0., 0., 0., 1.],\n",
       "       [0., 0., 0., 1.],\n",
       "       [0., 0., 0., 1.],\n",
       "       [0., 0., 0., 1.],\n",
       "       [0., 0., 0., 1.],\n",
       "       [0., 0., 0., 1.],\n",
       "       [0., 0., 0., 1.]], dtype=float32)"
      ]
     },
     "execution_count": 54,
     "metadata": {},
     "output_type": "execute_result"
    }
   ],
   "source": [
    "y_test"
   ]
  },
  {
   "cell_type": "code",
   "execution_count": 55,
   "metadata": {},
   "outputs": [
    {
     "name": "stdout",
     "output_type": "stream",
     "text": [
      "2/2 [==============================] - 5s 928ms/step\n"
     ]
    }
   ],
   "source": [
    "# predict on test data\n",
    "y_pred = model.predict(X_test)"
   ]
  },
  {
   "cell_type": "code",
   "execution_count": 56,
   "metadata": {},
   "outputs": [
    {
     "data": {
      "text/plain": [
       "array([[9.09001172e-01, 7.78864473e-02, 9.42878891e-03, 3.68364621e-03],\n",
       "       [8.63455296e-01, 1.49669300e-03, 1.30259320e-01, 4.78876894e-03],\n",
       "       [9.96809065e-01, 1.92733551e-05, 3.16019403e-03, 1.15407065e-05],\n",
       "       [9.24781084e-01, 5.29446916e-05, 7.51056075e-02, 6.03590197e-05],\n",
       "       [9.99408960e-01, 2.78829044e-04, 2.95264559e-04, 1.69414507e-05],\n",
       "       [9.15847600e-01, 6.69128785e-05, 8.39388296e-02, 1.46657156e-04],\n",
       "       [9.92428482e-01, 2.18943819e-06, 7.56238867e-03, 6.95453082e-06],\n",
       "       [9.99783933e-01, 3.60905887e-07, 1.28734857e-04, 8.69931246e-05],\n",
       "       [9.97354627e-01, 6.69995507e-06, 1.27767888e-03, 1.36106694e-03],\n",
       "       [9.99947667e-01, 5.71269823e-07, 4.78341426e-05, 3.92123047e-06],\n",
       "       [4.16485429e-01, 5.14889657e-01, 7.42640533e-03, 6.11985028e-02],\n",
       "       [9.68080014e-04, 9.91982043e-01, 6.55874889e-03, 4.91059909e-04],\n",
       "       [1.98124126e-02, 9.79763329e-01, 1.79613926e-04, 2.44743860e-04],\n",
       "       [4.43106502e-01, 4.66271639e-01, 6.24621147e-03, 8.43756348e-02],\n",
       "       [3.46961975e-01, 3.75624627e-01, 6.82407571e-03, 2.70589292e-01],\n",
       "       [1.85049151e-03, 9.97595370e-01, 4.86235018e-04, 6.78478900e-05],\n",
       "       [2.62656449e-05, 9.99963880e-01, 9.08216953e-06, 6.96341829e-07],\n",
       "       [5.16800536e-03, 9.90018725e-01, 4.41063009e-03, 4.02528589e-04],\n",
       "       [5.19875437e-03, 9.93995368e-01, 6.83243052e-05, 7.37652066e-04],\n",
       "       [8.62718839e-03, 9.91011262e-01, 2.74842023e-04, 8.66984119e-05],\n",
       "       [1.30951264e-07, 5.18300247e-09, 9.99995708e-01, 4.20372726e-06],\n",
       "       [2.56690267e-03, 7.60917010e-06, 9.96894121e-01, 5.31350670e-04],\n",
       "       [1.52646715e-03, 1.87472644e-04, 9.97487426e-01, 7.98607303e-04],\n",
       "       [1.44738369e-04, 2.53372800e-05, 9.99814093e-01, 1.59365100e-05],\n",
       "       [4.72397332e-05, 7.96501718e-06, 9.99933600e-01, 1.12207726e-05],\n",
       "       [1.29743853e-07, 8.91933354e-08, 9.99990940e-01, 8.80231528e-06],\n",
       "       [1.92406751e-05, 1.35290775e-05, 9.99507308e-01, 4.60020470e-04],\n",
       "       [3.54336915e-09, 5.19296328e-10, 9.99999285e-01, 6.91551747e-07],\n",
       "       [1.99680822e-03, 1.41794822e-04, 9.95765448e-01, 2.09589256e-03],\n",
       "       [6.12346630e-04, 6.55290387e-06, 9.98899937e-01, 4.81227587e-04],\n",
       "       [4.05249921e-05, 1.06865402e-04, 3.51532511e-02, 9.64699388e-01],\n",
       "       [9.33818053e-04, 2.53959370e-05, 6.20024605e-03, 9.92840528e-01],\n",
       "       [6.12782387e-05, 6.12037766e-05, 2.10483721e-03, 9.97772634e-01],\n",
       "       [3.34132405e-04, 1.73892076e-05, 8.96316080e-04, 9.98752117e-01],\n",
       "       [1.31676777e-03, 1.45291797e-05, 1.16302795e-03, 9.97505724e-01],\n",
       "       [3.04634188e-04, 5.18658271e-05, 2.20700707e-02, 9.77573514e-01],\n",
       "       [8.73658937e-05, 3.75141087e-03, 2.88773756e-02, 9.67283905e-01],\n",
       "       [5.75941405e-04, 1.38593675e-03, 7.88429379e-03, 9.90153849e-01],\n",
       "       [1.73260365e-03, 1.10329507e-04, 1.80744380e-02, 9.80082691e-01],\n",
       "       [2.80298525e-04, 1.60823663e-04, 6.79604895e-03, 9.92762864e-01]],\n",
       "      dtype=float32)"
      ]
     },
     "execution_count": 56,
     "metadata": {},
     "output_type": "execute_result"
    }
   ],
   "source": [
    "y_pred"
   ]
  },
  {
   "cell_type": "code",
   "execution_count": 57,
   "metadata": {},
   "outputs": [],
   "source": [
    "# convert to class labels\n",
    "y_pred = np.argmax(y_pred, axis=1)\n"
   ]
  },
  {
   "cell_type": "code",
   "execution_count": 58,
   "metadata": {},
   "outputs": [],
   "source": [
    "# test_path = 'C:/Users/Ponda/OneDrive/desktop/Linear/Test/Images/New/'\n",
    "# import os\n",
    "# import matplotlib.pyplot as plt\n",
    "# for test in os.listdir(test_path):\n",
    "#     # convert JPG to jpeg\n",
    "#     if test.endswith('.JPG'):\n",
    "#         test = test.replace('.JPG', '.jpg')\n",
    "#     print(test)\n",
    "#     img = cv2.imread(os.path.join(test_path, test))\n",
    "#     print(classes)\n",
    "#     pred = model.predict(preprocess(img))\n",
    "#     plt.imshow(cv2.cvtColor(img, cv2.COLOR_BGR2RGB))\n",
    "#     plt.title(pred)\n",
    "#     plt.axis('off')\n",
    "#     plt.show()\n"
   ]
  },
  {
   "cell_type": "code",
   "execution_count": 59,
   "metadata": {},
   "outputs": [
    {
     "data": {
      "text/plain": [
       "array([0, 0, 0, 0, 0, 0, 0, 0, 0, 0, 1, 1, 1, 1, 1, 1, 1, 1, 1, 1, 2, 2,\n",
       "       2, 2, 2, 2, 2, 2, 2, 2, 3, 3, 3, 3, 3, 3, 3, 3, 3, 3], dtype=int64)"
      ]
     },
     "execution_count": 59,
     "metadata": {},
     "output_type": "execute_result"
    }
   ],
   "source": [
    "y_pred"
   ]
  },
  {
   "cell_type": "code",
   "execution_count": 60,
   "metadata": {},
   "outputs": [
    {
     "data": {
      "text/plain": [
       "array([[1., 0., 0., 0.],\n",
       "       [1., 0., 0., 0.],\n",
       "       [1., 0., 0., 0.],\n",
       "       [1., 0., 0., 0.],\n",
       "       [1., 0., 0., 0.],\n",
       "       [1., 0., 0., 0.],\n",
       "       [1., 0., 0., 0.],\n",
       "       [1., 0., 0., 0.],\n",
       "       [1., 0., 0., 0.],\n",
       "       [1., 0., 0., 0.],\n",
       "       [0., 1., 0., 0.],\n",
       "       [0., 1., 0., 0.],\n",
       "       [0., 1., 0., 0.],\n",
       "       [0., 1., 0., 0.],\n",
       "       [0., 1., 0., 0.],\n",
       "       [0., 1., 0., 0.],\n",
       "       [0., 1., 0., 0.],\n",
       "       [0., 1., 0., 0.],\n",
       "       [0., 1., 0., 0.],\n",
       "       [0., 1., 0., 0.],\n",
       "       [0., 0., 1., 0.],\n",
       "       [0., 0., 1., 0.],\n",
       "       [0., 0., 1., 0.],\n",
       "       [0., 0., 1., 0.],\n",
       "       [0., 0., 1., 0.],\n",
       "       [0., 0., 1., 0.],\n",
       "       [0., 0., 1., 0.],\n",
       "       [0., 0., 1., 0.],\n",
       "       [0., 0., 1., 0.],\n",
       "       [0., 0., 1., 0.],\n",
       "       [0., 0., 0., 1.],\n",
       "       [0., 0., 0., 1.],\n",
       "       [0., 0., 0., 1.],\n",
       "       [0., 0., 0., 1.],\n",
       "       [0., 0., 0., 1.],\n",
       "       [0., 0., 0., 1.],\n",
       "       [0., 0., 0., 1.],\n",
       "       [0., 0., 0., 1.],\n",
       "       [0., 0., 0., 1.],\n",
       "       [0., 0., 0., 1.]], dtype=float32)"
      ]
     },
     "execution_count": 60,
     "metadata": {},
     "output_type": "execute_result"
    }
   ],
   "source": [
    "y_test"
   ]
  },
  {
   "cell_type": "code",
   "execution_count": 61,
   "metadata": {},
   "outputs": [],
   "source": [
    "# one hot encoding for pred\n",
    "y_pred = to_categorical(y_pred)"
   ]
  },
  {
   "cell_type": "code",
   "execution_count": 62,
   "metadata": {},
   "outputs": [
    {
     "data": {
      "text/plain": [
       "array([[1., 0., 0., 0.],\n",
       "       [1., 0., 0., 0.],\n",
       "       [1., 0., 0., 0.],\n",
       "       [1., 0., 0., 0.],\n",
       "       [1., 0., 0., 0.],\n",
       "       [1., 0., 0., 0.],\n",
       "       [1., 0., 0., 0.],\n",
       "       [1., 0., 0., 0.],\n",
       "       [1., 0., 0., 0.],\n",
       "       [1., 0., 0., 0.],\n",
       "       [0., 1., 0., 0.],\n",
       "       [0., 1., 0., 0.],\n",
       "       [0., 1., 0., 0.],\n",
       "       [0., 1., 0., 0.],\n",
       "       [0., 1., 0., 0.],\n",
       "       [0., 1., 0., 0.],\n",
       "       [0., 1., 0., 0.],\n",
       "       [0., 1., 0., 0.],\n",
       "       [0., 1., 0., 0.],\n",
       "       [0., 1., 0., 0.],\n",
       "       [0., 0., 1., 0.],\n",
       "       [0., 0., 1., 0.],\n",
       "       [0., 0., 1., 0.],\n",
       "       [0., 0., 1., 0.],\n",
       "       [0., 0., 1., 0.],\n",
       "       [0., 0., 1., 0.],\n",
       "       [0., 0., 1., 0.],\n",
       "       [0., 0., 1., 0.],\n",
       "       [0., 0., 1., 0.],\n",
       "       [0., 0., 1., 0.],\n",
       "       [0., 0., 0., 1.],\n",
       "       [0., 0., 0., 1.],\n",
       "       [0., 0., 0., 1.],\n",
       "       [0., 0., 0., 1.],\n",
       "       [0., 0., 0., 1.],\n",
       "       [0., 0., 0., 1.],\n",
       "       [0., 0., 0., 1.],\n",
       "       [0., 0., 0., 1.],\n",
       "       [0., 0., 0., 1.],\n",
       "       [0., 0., 0., 1.]], dtype=float32)"
      ]
     },
     "execution_count": 62,
     "metadata": {},
     "output_type": "execute_result"
    }
   ],
   "source": [
    "y_pred"
   ]
  },
  {
   "cell_type": "code",
   "execution_count": 63,
   "metadata": {},
   "outputs": [
    {
     "data": {
      "text/plain": [
       "1.0"
      ]
     },
     "execution_count": 63,
     "metadata": {},
     "output_type": "execute_result"
    }
   ],
   "source": [
    "# accuracy score\n",
    "from sklearn.metrics import accuracy_score\n",
    "accuracy_score(y_test, y_pred)"
   ]
  },
  {
   "cell_type": "code",
   "execution_count": 64,
   "metadata": {},
   "outputs": [
    {
     "data": {
      "image/png": "[encoded data removed]",
      "text/plain": [
       "<Figure size 1000x1000 with 2 Axes>"
      ]
     },
     "metadata": {},
     "output_type": "display_data"
    }
   ],
   "source": [
    "# confusion matrix\n",
    "from sklearn.metrics import confusion_matrix\n",
    "import seaborn as sns\n",
    "import matplotlib.pyplot as plt\n",
    "\n",
    "cm = confusion_matrix(y_test.argmax(axis=1), y_pred.argmax(axis=1))\n",
    "plt.figure(figsize=(10, 10))\n",
    "sns.heatmap(cm, annot=True, fmt='d', cmap='Blues')\n",
    "plt.xlabel('Predicted')\n",
    "plt.ylabel('Actual')\n",
    "plt.show()"
   ]
  },
  {
   "cell_type": "code",
   "execution_count": 65,
   "metadata": {},
   "outputs": [
    {
     "name": "stdout",
     "output_type": "stream",
     "text": [
      "              precision    recall  f1-score   support\n",
      "\n",
      "        Blue       1.00      1.00      1.00        10\n",
      "         New       1.00      1.00      1.00        10\n",
      "        Pond       1.00      1.00      1.00        10\n",
      "         Tar       1.00      1.00      1.00        10\n",
      "\n",
      "    accuracy                           1.00        40\n",
      "   macro avg       1.00      1.00      1.00        40\n",
      "weighted avg       1.00      1.00      1.00        40\n",
      "\n"
     ]
    }
   ],
   "source": [
    "# classification report\n",
    "from sklearn.metrics import classification_report\n",
    "print(classification_report(y_test.argmax(axis=1), y_pred.argmax(axis=1), target_names=classes))\n"
   ]
  },
  {
   "cell_type": "code",
   "execution_count": null,
   "metadata": {},
   "outputs": [],
   "source": [
    "\n",
    "        "
   ]
  },
  {
   "cell_type": "code",
   "execution_count": null,
   "metadata": {},
   "outputs": [],
   "source": []
  }
 ],
 "metadata": {
  "kernelspec": {
   "display_name": "Python 3",
   "language": "python",
   "name": "python3"
  },
  "language_info": {
   "codemirror_mode": {
    "name": "ipython",
    "version": 3
   },
   "file_extension": ".py",
   "mimetype": "text/x-python",
   "name": "python",
   "nbconvert_exporter": "python",
   "pygments_lexer": "ipython3",
   "version": "3.11.4"
  }
 },
 "nbformat": 4,
 "nbformat_minor": 2
}
